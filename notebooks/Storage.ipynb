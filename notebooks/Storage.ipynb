{
 "cells": [
  {
   "cell_type": "markdown",
   "metadata": {},
   "source": [
    "# Storage: \n",
    "<u>Storage for all unstructured data in its entirety</u>"
   ]
  },
  {
   "cell_type": "markdown",
   "metadata": {},
   "source": [
    "```aws s3 ls --summarize --human-readable --recursive s3://delays-project-2/```          \n",
    "<details><summary>\n",
    "Total Objects: 2417\n",
    "</summary>\n",
    "Total Size: 31.4 MiB\n",
    "</details>\n",
    "\n"
   ]
  },
  {
   "cell_type": "markdown",
   "metadata": {},
   "source": [
    "+ URL of S3 datasets:\n",
    "1 for each source (unstructured)\n",
    "1 for each data frame (structured, normalized)\n",
    "\n",
    "\n",
    ">https://s3.amazonaws.com/delays-project-2/\n",
    "> Contains all the raw data used to create the parquet files\n",
    "\n",
    "> https://s3.amazonaws.com/delays-project-parquet/\n",
    "> Folder contains 3 parquet folders: airports, delays and weather.\n"
   ]
  },
  {
   "cell_type": "markdown",
   "metadata": {},
   "source": [
    "# Structured Data:\n",
    "Separate storage for structured data in 3NF (similar to how we stored raw tweets in s3 and structured tables in postgres)"
   ]
  },
  {
   "cell_type": "markdown",
   "metadata": {},
   "source": [
    "<img src='../images/schema.png'>"
   ]
  },
  {
   "cell_type": "markdown",
   "metadata": {},
   "source": [
    "<img src=\"../images/db.png\">"
   ]
  },
  {
   "cell_type": "markdown",
   "metadata": {},
   "source": [
    "# Next:\n",
    "[Data Transformations](./Data_Transformations.ipynb)"
   ]
  },
  {
   "cell_type": "code",
   "execution_count": null,
   "metadata": {
    "collapsed": true
   },
   "outputs": [],
   "source": []
  }
 ],
 "metadata": {
  "kernelspec": {
   "display_name": "Python [conda env:dsci6007]",
   "language": "python",
   "name": "conda-env-dsci6007-py"
  },
  "language_info": {
   "codemirror_mode": {
    "name": "ipython",
    "version": 2
   },
   "file_extension": ".py",
   "mimetype": "text/x-python",
   "name": "python",
   "nbconvert_exporter": "python",
   "pygments_lexer": "ipython2",
   "version": "2.7.13"
  }
 },
 "nbformat": 4,
 "nbformat_minor": 0
}
