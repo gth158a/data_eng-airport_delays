{
 "cells": [
  {
   "cell_type": "markdown",
   "metadata": {},
   "source": [
    "# Batch process with Spark"
   ]
  },
  {
   "cell_type": "code",
   "execution_count": null,
   "metadata": {
    "collapsed": true
   },
   "outputs": [],
   "source": [
    "!load pyspark/pyjob.py\n",
    "from pyspark.sql import SparkSession\n",
    "from operator import add\n",
    "import sys\n",
    "import pandas as pd\n",
    "import json\n",
    "from pyspark.sql.functions import expr\n",
    "\n",
    "# Constants\n",
    "APP_NAME = \"Synthesize\"\n",
    "\n",
    "\n",
    "def main(spark):\n",
    "    df = spark.read.json(\"s3://delays-project-2/2017/*/*/*/*\")\n",
    "    # df.printSchema()\n",
    "\n",
    "    df.createGlobalTempView(\"s3content\")\n",
    "\n",
    "    # airport table\n",
    "    airports = spark.sql(\"SELECT DISTINCT IATA, ICAO, city, name, state FROM global_temp.s3content\")\n",
    "    airports.write.parquet(\"s3://delays-project-parquet/pyspark/airports.parquet\")\n",
    "    airports.coalesce(1).write.csv(\"s3://delays-project-parquet/pyspark/airports2.csv\")\n",
    "\n",
    "    # weather table\n",
    "    weather = spark.sql(\"SELECT DISTINCT IATA, q_time, weather.temp, weather.visibility, weather.weather, weather.wind, weather.meta.credit, weather.meta.updated, weather.meta.url FROM global_temp.s3content\")\n",
    "    weather_formatted = weather.select(expr(\"(split(q_time, 'T'))[0]\").alias(\"date\"), expr(\"(split(q_time, 'T'))[1]\").alias(\"time\"), expr(\"(split(temp, ' '))[0]\").alias(\"tempF\"), expr(\"IATA\"), expr(\"updated\"))\n",
    "    weather_formatted.coalesce(1).write.csv(\"s3://delays-project-parquet/pyspark/weather.csv\")\n",
    "\n",
    "    # delays table\n",
    "    delays = spark.sql(\"SELECT DISTINCT IATA, q_time, delay, status.avgDelay as avgDelay , status.closureBegin as closureBegin, status.closureEnd as closureEnd, status.endTime as endTime, status.maxDelay as maxDelays, status.minDelay as minDelays, status.reason as reason, status.trend as trend, status.type as type FROM global_temp.s3content\")\n",
    "    delays_formatted = delays.select(expr(\"(split(q_time, 'T'))[0]\").alias(\"date\"), expr(\"(split(q_time, 'T'))[1]\").alias(\"time\"), expr(\"IATA\"), expr(\"delay\"), expr(\"avgDelay\"), expr(\"closureBegin\"), expr(\"closureEnd\"), expr(\"endTime\"), expr(\"maxDelays\"), expr(\"minDelays\"), expr(\"reason\"), expr(\"trend\"), expr(\"type\") )\n",
    "    delays_formatted.coalesce(1).write.csv(\"s3://delays-project-parquet/pyspark/delays.csv\")\n",
    "\n",
    "    # weather and dailys in one table\n",
    "    weather_delays = spark.sql(\"SELECT DISTINCT IATA, q_time, delay, status.reason as reason, weather.temp as temp, weather.visibility as visibility, weather.weather as weather, weather.wind as wind, weather.meta.credit as credit, weather.meta.updated as updated, weather.meta.url as url FROM global_temp.s3content\")\n",
    "    weather_delays_formatted = weather_delays.select(expr(\"(split(q_time, 'T'))[0]\").alias(\"date\"), expr(\"(split(q_time, 'T'))[1]\").alias(\"time\"), expr(\"IATA\"), expr(\"delay\"), expr(\"reason\"), expr(\"temp\"), expr(\"visibility\"), expr(\"weather\"), expr(\"wind\"), expr(\"credit\"), expr(\"updated\"), expr(\"url\"))\n",
    "    weather_delays_formatted.coalesce(1).write.csv(\"s3://delays-project-parquet/pyspark/weather_delays0000.csv\")\n",
    "\n",
    "\n",
    "if __name__ == \"__main__\":\n",
    "    # To run the file type: \"spark-submit pyjob.py\"\n",
    "    # The output is located at \"s3://delays-project-parquet/\"\n",
    "    spark = SparkSession \\\n",
    "    .builder \\\n",
    "    .appName(APP_NAME) \\\n",
    "    .getOrCreate()\n",
    "    spark.sparkContext.setLogLevel('ERROR')\n",
    "    main(spark)"
   ]
  },
  {
   "cell_type": "markdown",
   "metadata": {},
   "source": [
    "## Loading output into MySql"
   ]
  },
  {
   "cell_type": "code",
   "execution_count": null,
   "metadata": {
    "collapsed": true
   },
   "outputs": [],
   "source": [
    "!load mysqlimport.sh\n",
    "mysqlimport --local  --compress  --user=flask\\\n",
    "     -P --host=flasktest.czmfd7dvqdgw.us-east-1.rds.amazonaws.com \\\n",
    "     --port=3306  --columns=date,time,iata,delay,reason,temp,visibility,\n",
    "     weather,wind,credit,updated,url --fields-terminated-by=',' \\\n",
    "     weather_delay.csv"
   ]
  },
  {
   "cell_type": "markdown",
   "metadata": {},
   "source": [
    "> Cronjobs to run every day"
   ]
  },
  {
   "cell_type": "markdown",
   "metadata": {},
   "source": [
    "```0 4 * * * ~/pyspark/pyjob.py```"
   ]
  },
  {
   "cell_type": "markdown",
   "metadata": {},
   "source": [
    "```0 5 * * * bash mysqlimport.sh```"
   ]
  },
  {
   "cell_type": "markdown",
   "metadata": {},
   "source": [
    "# Front End:"
   ]
  },
  {
   "cell_type": "markdown",
   "metadata": {},
   "source": [
    "# Amazon beanstalk"
   ]
  },
  {
   "cell_type": "markdown",
   "metadata": {},
   "source": [
    "### Model definition"
   ]
  },
  {
   "cell_type": "code",
   "execution_count": null,
   "metadata": {
    "collapsed": true
   },
   "outputs": [],
   "source": [
    "class WeatherDelay(db.Model):\n",
    "    id = db.Column(db.Integer, primary_key=True)\n",
    "    date = db.Column(db.Date)\n",
    "    time = db.Column(db.Time)\n",
    "    iata = db.Column(db.String(4))\n",
    "    delay = db.Column(db.String(6))\n",
    "    reason = db.Column(db.String(64))\n",
    "    temp = db.Column(db.String(64))\n",
    "    visibility = db.Column(db.String(64))\n",
    "    weather = db.Column(db.String(64))\n",
    "    wind = db.Column(db.String(64))\n",
    "    credit = db.Column(db.String(64))\n",
    "    updated = db.Column(db.String(64))\n",
    "    url = db.Column(db.String(64))\n",
    "\n",
    "    def __init__(self, date, time, iata, delay, reason, temp, visibility, weather,\n",
    "                 wind, credit, updated, url):\n",
    "        self.date = date\n",
    "        self.time = time\n",
    "        self.iata = iata\n",
    "        self.delay = delay\n",
    "        self.reason = reason\n",
    "        self.temp = temp\n",
    "        self.visibility = visibility\n",
    "        self.weather = weather\n",
    "        self.wind = wind\n",
    "        self.credit = credit\n",
    "        self.updated = updated\n",
    "        self.url = url"
   ]
  },
  {
   "cell_type": "markdown",
   "metadata": {},
   "source": [
    "### Views Definition"
   ]
  },
  {
   "cell_type": "code",
   "execution_count": null,
   "metadata": {
    "collapsed": true
   },
   "outputs": [],
   "source": [
    "@application.route('/temps/<iata>') \n",
    "def temps_by_iata(iata):\n",
    "    query_db = DailyTemp.query.filter_by(iata=iata).order_by(DailyTemp.id.asc())\n",
    "    for q in query_db:\n",
    "        print(q.date)\n",
    "    db.session.close()\n",
    "\n",
    "    return render_template('temps.html', results=query_db)"
   ]
  },
  {
   "cell_type": "code",
   "execution_count": null,
   "metadata": {
    "collapsed": true
   },
   "outputs": [],
   "source": [
    "!load flask/templates/delays.html\n",
    "    <div align=\"center\">\n",
    "        <h2>Delays recorded in DBs:</h2>\n",
    "      </div>\n",
    "\n",
    "<hr>\n",
    "<div class=\"col-md-4\">\n",
    "    <table class=\"table table-striped table-hover\">\n",
    "      <thead>\n",
    "        <tr>\n",
    "         <th>Airport</th>\n",
    "         <th>Date</th>\n",
    "         <th>Delays</th>\n",
    "      </tr>\n",
    "     </thead>\n",
    "{% for z in results %}\n",
    "    <tr>\n",
    "      <td>{{z.iata}}</td>\n",
    "      <td>{{z.date}}</td>\n",
    "      <td>  {% if z.delay == 0 %}\n",
    "        False\n",
    "         {% else %}\n",
    "         True\n",
    "{% endif %}</td>\n",
    "    </tr>\n",
    "{% endfor %}\n",
    "  </tbody>\n",
    "</table>"
   ]
  },
  {
   "cell_type": "markdown",
   "metadata": {},
   "source": [
    "```$python db_create.py```"
   ]
  },
  {
   "cell_type": "markdown",
   "metadata": {},
   "source": [
    "```$eb deploy```"
   ]
  },
  {
   "cell_type": "markdown",
   "metadata": {},
   "source": [
    "<img src='../images/eb.png'>"
   ]
  },
  {
   "cell_type": "markdown",
   "metadata": {},
   "source": [
    "[Back home](https://github.com/gth158a/data_eng-airport_delays)"
   ]
  },
  {
   "cell_type": "code",
   "execution_count": null,
   "metadata": {
    "collapsed": true
   },
   "outputs": [],
   "source": []
  }
 ],
 "metadata": {
  "kernelspec": {
   "display_name": "Python [conda env:dsci6007]",
   "language": "python",
   "name": "conda-env-dsci6007-py"
  },
  "language_info": {
   "codemirror_mode": {
    "name": "ipython",
    "version": 2
   },
   "file_extension": ".py",
   "mimetype": "text/x-python",
   "name": "python",
   "nbconvert_exporter": "python",
   "pygments_lexer": "ipython2",
   "version": "2.7.13"
  }
 },
 "nbformat": 4,
 "nbformat_minor": 0
}
