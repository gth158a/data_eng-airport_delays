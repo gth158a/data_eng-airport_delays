{
 "cells": [
  {
   "cell_type": "code",
   "execution_count": 1,
   "metadata": {
    "collapsed": true
   },
   "outputs": [],
   "source": [
    "import requests\n",
    "import json\n",
    "from datetime import datetime"
   ]
  },
  {
   "cell_type": "markdown",
   "metadata": {},
   "source": [
    "## Accessing the API"
   ]
  },
  {
   "cell_type": "code",
   "execution_count": 3,
   "metadata": {
    "collapsed": false
   },
   "outputs": [],
   "source": [
    "n = datetime.now().isoformat()\n",
    "url = \"http://services.faa.gov/airport/status/\"\n",
    "airport_code = 'SFO'\n",
    "url_with_airport = url + airport_code\n",
    "params = dict(\n",
    "    format='json',\n",
    ")\n",
    "resp = requests.get(url=url_with_airport, params=params)"
   ]
  },
  {
   "cell_type": "code",
   "execution_count": 17,
   "metadata": {
    "collapsed": false
   },
   "outputs": [
    {
     "data": {
      "text/plain": [
       "{u'IATA': u'LAX',\n",
       " u'ICAO': u'KLAX',\n",
       " u'city': u'Los Angeles',\n",
       " u'delay': u'true',\n",
       " u'name': u'Los Angeles International',\n",
       " 'q_time': '2017-03-03T16:41:19.838770',\n",
       " u'state': u'California',\n",
       " u'status': {u'avgDelay': u'1 hour and 9 minutes',\n",
       "  u'closureBegin': u'',\n",
       "  u'closureEnd': u'',\n",
       "  u'endTime': u'',\n",
       "  u'maxDelay': u'',\n",
       "  u'minDelay': u'',\n",
       "  u'reason': u'METROPLEX',\n",
       "  u'trend': u'',\n",
       "  u'type': u'Ground Delay'},\n",
       " u'weather': {u'meta': {u'credit': u\"NOAA's National Weather Service\",\n",
       "   u'updated': u'3:53 PM Local',\n",
       "   u'url': u'http://weather.gov/'},\n",
       "  u'temp': u'68.0 F (20.0 C)',\n",
       "  u'visibility': 10.0,\n",
       "  u'weather': u'Partly Cloudy',\n",
       "  u'wind': u'West at 12.7mph'}}"
      ]
     },
     "execution_count": 17,
     "metadata": {},
     "output_type": "execute_result"
    }
   ],
   "source": [
    "data = json.loads(resp.text)\n",
    "data['q_time'] = n\n",
    "data"
   ]
  },
  {
   "cell_type": "code",
   "execution_count": 39,
   "metadata": {
    "collapsed": true
   },
   "outputs": [],
   "source": [
    "airports = ['ATL', 'LAX', 'ORD', 'DFW', 'JFK', 'DEN', 'SFO','CLT', 'LAS', 'PHX', 'MIA', 'IAH', 'SEA', 'MCO', 'EWR', 'MSP', 'BOS', 'DTW', 'PHL','LGA']"
   ]
  },
  {
   "cell_type": "code",
   "execution_count": null,
   "metadata": {
    "collapsed": true
   },
   "outputs": [],
   "source": [
    "#!load stream.py\n",
    "url = \"http://services.faa.gov/airport/status/\"\n",
    "params = dict(\n",
    "    format='json',)\n",
    "for code in airports:\n",
    "    query_time = datetime.now().isoformat()\n",
    "    url_with_airport = url + code\n",
    "    resp = requests.get(url=url_with_airport, params=params)\n",
    "\n",
    "    # Writing JSON data\n",
    "    data = json.loads(resp.text)\n",
    "    data['q_time'] = query_time\n",
    "    client.put_record(\n",
    "                    DeliveryStreamName='dsci6007-delaysproject',\n",
    "                    Record={\n",
    "                        'Data': json.dumps(data, ensure_ascii=False)\n",
    "                        .encode('utf8') + '\\n'\n",
    "                    })"
   ]
  },
  {
   "cell_type": "markdown",
   "metadata": {},
   "source": [
    "# Data Streams\n",
    "+ Data collected by EC2 machine every 10 minutes for each of the 20 airports.\n",
    "+ Real-time data shown in map"
   ]
  },
  {
   "cell_type": "code",
   "execution_count": null,
   "metadata": {
    "collapsed": true
   },
   "outputs": [],
   "source": [
    "!load draw_map.py\n",
    "# Load empty map\n",
    "tree = ET.parse('/home/ubuntu/static/airports.svg')\n",
    "root = tree.getroot()\n",
    "\n",
    "# Update map\n",
    "for element in tree.iter():\n",
    "    if element.tag.split(\"}\")[1] == \"circle\":\n",
    "        for c in r['airports']:\n",
    "            if element.get(\"id\") == c:\n",
    "                if r[\"airports\"][c]:\n",
    "                    element.set(\"fill\", \"red\")\n",
    "                else:\n",
    "                    element.set(\"fill\", \"green\")\n",
    "\n",
    "# Write SVG file\n",
    "tree.write('/home/ubuntu/static/map.svg')\n",
    "\n",
    "\n",
    "# Write delays Table\n",
    "if info.shape[0] == 0:\n",
    "    content = \"<h2>Last updated: {}</h2><p>No Delays</p>\".format(r['update_time'])\n",
    "else:\n",
    "    info.index += 1\n",
    "    content = \"<h2>Last updated: {}</h2>\\n{}\".format(r[\"update_time\"], info.to_html())\n",
    "\n",
    "# Write HTML with update information\n",
    "html= '<!DOCTYPE html><html lang=\"en\"><head><meta charset=\"UTF-8\" /><title>Delay.io</title></head><body>{}</body></html>'.format(content)\n",
    "\n",
    "with open(\"/home/ubuntu/static/table.html\", \"w\") as f:\n",
    "    f.write(html)"
   ]
  },
  {
   "cell_type": "markdown",
   "metadata": {},
   "source": [
    "# Next:\n",
    "[Storage](\"storage.ipynb\"): Storage for all unstructured data and 3NF"
   ]
  },
  {
   "cell_type": "code",
   "execution_count": null,
   "metadata": {
    "collapsed": true
   },
   "outputs": [],
   "source": []
  }
 ],
 "metadata": {
  "anaconda-cloud": {},
  "kernelspec": {
   "display_name": "Python [conda env:dsci6007]",
   "language": "python",
   "name": "conda-env-dsci6007-py"
  },
  "language_info": {
   "codemirror_mode": {
    "name": "ipython",
    "version": 2
   },
   "file_extension": ".py",
   "mimetype": "text/x-python",
   "name": "python",
   "nbconvert_exporter": "python",
   "pygments_lexer": "ipython2",
   "version": "2.7.13"
  }
 },
 "nbformat": 4,
 "nbformat_minor": 0
}
